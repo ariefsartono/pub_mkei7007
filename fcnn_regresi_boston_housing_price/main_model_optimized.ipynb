{
 "cells": [
  {
   "cell_type": "code",
   "execution_count": 1,
   "id": "293f795d",
   "metadata": {},
   "outputs": [],
   "source": [
    "# Model Fully Connected Neural Network untuk persoalan regresi menggunakan dataset Boston Housing Price\n",
    "# Urutan proses:\n",
    "# Step 1 - Memanggil library yang diperlukan\n",
    "# Step 2 - Memanggil dataset\n",
    "# Step 3 - Melihat isi sample dataset\n",
    "# Step 4 - Preprocessing dataset\n",
    "# Step 5 - Membangun model regresi\n",
    "# Step 6 - Kompile dan training model\n",
    "# Step 7 - Menampilkan plot training history\n",
    "# Step 8 - Evaluasi pada dataset"
   ]
  },
  {
   "cell_type": "code",
   "execution_count": 2,
   "id": "dd5f9ff4",
   "metadata": {},
   "outputs": [],
   "source": [
    "# Step 1 - Memanggil library yang diperlukan\n",
    "from keras.datasets import boston_housing\n",
    "from sklearn.preprocessing import StandardScaler\n",
    "from keras import models, layers\n",
    "from matplotlib import pyplot"
   ]
  },
  {
   "cell_type": "code",
   "execution_count": 3,
   "id": "34b56b8b",
   "metadata": {},
   "outputs": [],
   "source": [
    "# Step 2 - Memanggil dataset\n",
    "from keras.datasets import boston_housing\n",
    "(X_train, y_train), (X_test, y_test) = boston_housing.load_data()"
   ]
  },
  {
   "cell_type": "code",
   "execution_count": 4,
   "id": "40cf235f",
   "metadata": {},
   "outputs": [
    {
     "name": "stdout",
     "output_type": "stream",
     "text": [
      "[  1.23247   0.        8.14      0.        0.538     6.142    91.7\n",
      "   3.9769    4.      307.       21.      396.9      18.72   ] 15.2\n"
     ]
    }
   ],
   "source": [
    "# Step 3 - Melihat isi sample dataset\n",
    "print(X_train[0], y_train[0])"
   ]
  },
  {
   "cell_type": "code",
   "execution_count": 5,
   "id": "580e919f",
   "metadata": {},
   "outputs": [
    {
     "name": "stdout",
     "output_type": "stream",
     "text": [
      "[-0.27224633 -0.48361547 -0.43576161 -0.25683275 -0.1652266  -0.1764426\n",
      "  0.81306188  0.1166983  -0.62624905 -0.59517003  1.14850044  0.44807713\n",
      "  0.8252202 ]\n"
     ]
    }
   ],
   "source": [
    "# Step 4 - Preprocessing dataset\n",
    "#from sklearn.preprocessing import StandardScaler\n",
    "scaler = StandardScaler()\n",
    "# fit scaler pada training set\n",
    "scaler.fit(X_train)\n",
    "# transformasi ke training dan testing data\n",
    "X_train_scaled = scaler.transform(X_train)\n",
    "X_test_scaled = scaler.transform(X_test)\n",
    "# menampilkan sampel output\n",
    "print(X_train_scaled[0])"
   ]
  },
  {
   "cell_type": "code",
   "execution_count": 6,
   "id": "35bdaa9c",
   "metadata": {},
   "outputs": [],
   "source": [
    "# Step 5 - Pembuatan model regresi\n",
    "#from keras import models, layers\n",
    "model = models.Sequential()\n",
    "model.add(layers.Dense(128, activation='relu', input_shape=[X_train.shape[1]]))\n",
    "model.add(layers.Dense(128, activation='relu'))\n",
    "model.add(layers.Dense(128, activation='relu'))\n",
    "model.add(layers.Dense(128, activation='relu'))\n",
    "#model.add(layers.Dense(8, activation='relu'))\n",
    "# output layer\n",
    "model.add(layers.Dense(1))"
   ]
  },
  {
   "cell_type": "code",
   "execution_count": 7,
   "id": "52eb7bf5",
   "metadata": {},
   "outputs": [
    {
     "name": "stdout",
     "output_type": "stream",
     "text": [
      "Epoch 1/100\n",
      "11/11 [==============================] - 2s 27ms/step - loss: 20.5078 - mae: 21.2007 - val_loss: 19.8875 - val_mae: 20.5790\n",
      "Epoch 2/100\n",
      "11/11 [==============================] - 0s 7ms/step - loss: 14.4097 - mae: 15.0951 - val_loss: 8.0707 - val_mae: 8.7291\n",
      "Epoch 3/100\n",
      "11/11 [==============================] - 0s 7ms/step - loss: 7.6317 - mae: 8.2905 - val_loss: 5.6871 - val_mae: 6.3328\n",
      "Epoch 4/100\n",
      "11/11 [==============================] - 0s 8ms/step - loss: 4.8245 - mae: 5.4729 - val_loss: 3.9918 - val_mae: 4.6054\n",
      "Epoch 5/100\n",
      "11/11 [==============================] - 0s 7ms/step - loss: 3.2442 - mae: 3.8637 - val_loss: 2.7381 - val_mae: 3.3543\n",
      "Epoch 6/100\n",
      "11/11 [==============================] - 0s 7ms/step - loss: 2.8430 - mae: 3.4451 - val_loss: 2.6538 - val_mae: 3.2587\n",
      "Epoch 7/100\n",
      "11/11 [==============================] - 0s 7ms/step - loss: 2.4485 - mae: 3.0445 - val_loss: 2.4765 - val_mae: 3.0667\n",
      "Epoch 8/100\n",
      "11/11 [==============================] - 0s 7ms/step - loss: 2.1469 - mae: 2.7235 - val_loss: 2.3412 - val_mae: 2.9567\n",
      "Epoch 9/100\n",
      "11/11 [==============================] - 0s 7ms/step - loss: 1.9671 - mae: 2.5357 - val_loss: 2.4061 - val_mae: 3.0096\n",
      "Epoch 10/100\n",
      "11/11 [==============================] - 0s 8ms/step - loss: 1.9516 - mae: 2.5318 - val_loss: 2.3388 - val_mae: 2.9487\n",
      "Epoch 11/100\n",
      "11/11 [==============================] - 0s 7ms/step - loss: 1.8234 - mae: 2.3820 - val_loss: 2.8210 - val_mae: 3.4432\n",
      "Epoch 12/100\n",
      "11/11 [==============================] - 0s 7ms/step - loss: 2.1531 - mae: 2.7387 - val_loss: 2.1612 - val_mae: 2.7627\n",
      "Epoch 13/100\n",
      "11/11 [==============================] - 0s 7ms/step - loss: 1.7161 - mae: 2.2609 - val_loss: 2.1910 - val_mae: 2.7848\n",
      "Epoch 14/100\n",
      "11/11 [==============================] - 0s 7ms/step - loss: 1.6782 - mae: 2.2319 - val_loss: 2.2111 - val_mae: 2.8236\n",
      "Epoch 15/100\n",
      "11/11 [==============================] - 0s 7ms/step - loss: 1.6270 - mae: 2.1779 - val_loss: 2.1307 - val_mae: 2.7295\n",
      "Epoch 16/100\n",
      "11/11 [==============================] - 0s 7ms/step - loss: 1.6935 - mae: 2.2377 - val_loss: 2.0633 - val_mae: 2.6625\n",
      "Epoch 17/100\n",
      "11/11 [==============================] - 0s 7ms/step - loss: 1.6045 - mae: 2.1538 - val_loss: 2.0907 - val_mae: 2.6817\n",
      "Epoch 18/100\n",
      "11/11 [==============================] - 0s 7ms/step - loss: 1.4720 - mae: 1.9970 - val_loss: 2.1999 - val_mae: 2.8021\n",
      "Epoch 19/100\n",
      "11/11 [==============================] - 0s 7ms/step - loss: 1.4860 - mae: 2.0206 - val_loss: 2.1109 - val_mae: 2.6975\n",
      "Epoch 20/100\n",
      "11/11 [==============================] - 0s 7ms/step - loss: 1.4837 - mae: 2.0226 - val_loss: 2.5039 - val_mae: 3.1141\n",
      "Epoch 21/100\n",
      "11/11 [==============================] - 0s 7ms/step - loss: 1.6847 - mae: 2.2388 - val_loss: 2.2776 - val_mae: 2.8942\n",
      "Epoch 22/100\n",
      "11/11 [==============================] - 0s 7ms/step - loss: 1.5290 - mae: 2.0691 - val_loss: 2.2895 - val_mae: 2.9031\n",
      "Epoch 23/100\n",
      "11/11 [==============================] - 0s 7ms/step - loss: 1.4797 - mae: 2.0189 - val_loss: 1.9620 - val_mae: 2.5344\n",
      "Epoch 24/100\n",
      "11/11 [==============================] - 0s 7ms/step - loss: 1.3213 - mae: 1.8400 - val_loss: 1.9913 - val_mae: 2.5748\n",
      "Epoch 25/100\n",
      "11/11 [==============================] - 0s 7ms/step - loss: 1.2603 - mae: 1.7753 - val_loss: 2.1466 - val_mae: 2.7401\n",
      "Epoch 26/100\n",
      "11/11 [==============================] - 0s 7ms/step - loss: 1.3118 - mae: 1.8601 - val_loss: 2.0787 - val_mae: 2.6735\n",
      "Epoch 27/100\n",
      "11/11 [==============================] - 0s 7ms/step - loss: 1.4040 - mae: 1.9481 - val_loss: 1.9723 - val_mae: 2.5508\n",
      "Epoch 28/100\n",
      "11/11 [==============================] - 0s 7ms/step - loss: 1.2831 - mae: 1.8013 - val_loss: 1.9978 - val_mae: 2.5672\n",
      "Epoch 29/100\n",
      "11/11 [==============================] - 0s 7ms/step - loss: 1.2052 - mae: 1.7088 - val_loss: 2.0587 - val_mae: 2.6447\n",
      "Epoch 30/100\n",
      "11/11 [==============================] - 0s 7ms/step - loss: 1.1684 - mae: 1.6678 - val_loss: 2.0048 - val_mae: 2.5924\n",
      "Epoch 31/100\n",
      "11/11 [==============================] - 0s 7ms/step - loss: 1.2167 - mae: 1.7307 - val_loss: 2.0517 - val_mae: 2.6378\n",
      "Epoch 32/100\n",
      "11/11 [==============================] - 0s 7ms/step - loss: 1.2140 - mae: 1.7288 - val_loss: 2.1925 - val_mae: 2.7880\n",
      "Epoch 33/100\n",
      "11/11 [==============================] - 0s 7ms/step - loss: 1.1818 - mae: 1.6864 - val_loss: 2.4143 - val_mae: 3.0413\n",
      "Epoch 34/100\n",
      "11/11 [==============================] - 0s 7ms/step - loss: 1.3673 - mae: 1.9288 - val_loss: 2.6516 - val_mae: 3.2736\n",
      "Epoch 35/100\n",
      "11/11 [==============================] - 0s 7ms/step - loss: 1.5416 - mae: 2.0980 - val_loss: 2.0986 - val_mae: 2.7099\n",
      "Epoch 36/100\n",
      "11/11 [==============================] - 0s 8ms/step - loss: 1.1858 - mae: 1.7152 - val_loss: 2.1732 - val_mae: 2.7670\n",
      "Epoch 37/100\n",
      "11/11 [==============================] - 0s 7ms/step - loss: 1.1615 - mae: 1.6671 - val_loss: 2.0153 - val_mae: 2.5782\n",
      "Epoch 38/100\n",
      "11/11 [==============================] - 0s 7ms/step - loss: 1.1169 - mae: 1.6142 - val_loss: 2.0085 - val_mae: 2.5886\n",
      "Epoch 39/100\n",
      "11/11 [==============================] - 0s 7ms/step - loss: 1.0647 - mae: 1.5620 - val_loss: 1.9434 - val_mae: 2.5093\n",
      "Epoch 40/100\n",
      "11/11 [==============================] - 0s 7ms/step - loss: 1.0780 - mae: 1.5739 - val_loss: 1.9477 - val_mae: 2.5090\n",
      "Epoch 41/100\n",
      "11/11 [==============================] - 0s 7ms/step - loss: 0.9842 - mae: 1.4542 - val_loss: 2.0784 - val_mae: 2.6596\n",
      "Epoch 42/100\n",
      "11/11 [==============================] - 0s 7ms/step - loss: 1.0976 - mae: 1.5964 - val_loss: 2.0914 - val_mae: 2.6790\n",
      "Epoch 43/100\n",
      "11/11 [==============================] - 0s 7ms/step - loss: 1.1093 - mae: 1.6108 - val_loss: 2.0915 - val_mae: 2.6632\n",
      "Epoch 44/100\n",
      "11/11 [==============================] - 0s 7ms/step - loss: 1.1318 - mae: 1.6332 - val_loss: 2.0847 - val_mae: 2.6782\n",
      "Epoch 45/100\n",
      "11/11 [==============================] - 0s 8ms/step - loss: 1.0748 - mae: 1.5692 - val_loss: 2.0712 - val_mae: 2.6292\n",
      "Epoch 46/100\n",
      "11/11 [==============================] - 0s 7ms/step - loss: 1.0271 - mae: 1.5236 - val_loss: 2.0505 - val_mae: 2.6296\n",
      "Epoch 47/100\n",
      "11/11 [==============================] - 0s 7ms/step - loss: 0.9625 - mae: 1.4488 - val_loss: 2.0735 - val_mae: 2.6586\n",
      "Epoch 48/100\n",
      "11/11 [==============================] - 0s 7ms/step - loss: 0.9555 - mae: 1.4418 - val_loss: 2.0422 - val_mae: 2.6173\n",
      "Epoch 49/100\n",
      "11/11 [==============================] - 0s 7ms/step - loss: 0.9254 - mae: 1.3848 - val_loss: 2.0540 - val_mae: 2.6388\n",
      "Epoch 50/100\n",
      "11/11 [==============================] - 0s 7ms/step - loss: 1.0493 - mae: 1.5566 - val_loss: 2.0794 - val_mae: 2.6490\n",
      "Epoch 51/100\n",
      "11/11 [==============================] - 0s 7ms/step - loss: 0.9279 - mae: 1.3989 - val_loss: 2.0052 - val_mae: 2.5767\n",
      "Epoch 52/100\n",
      "11/11 [==============================] - 0s 7ms/step - loss: 0.8813 - mae: 1.3561 - val_loss: 2.1064 - val_mae: 2.6910\n",
      "Epoch 53/100\n",
      "11/11 [==============================] - 0s 7ms/step - loss: 0.8916 - mae: 1.3793 - val_loss: 2.0543 - val_mae: 2.6266\n",
      "Epoch 54/100\n",
      "11/11 [==============================] - 0s 8ms/step - loss: 0.8727 - mae: 1.3328 - val_loss: 2.0486 - val_mae: 2.6165\n",
      "Epoch 55/100\n",
      "11/11 [==============================] - 0s 8ms/step - loss: 0.8422 - mae: 1.2942 - val_loss: 2.0683 - val_mae: 2.6350\n",
      "Epoch 56/100\n",
      "11/11 [==============================] - 0s 8ms/step - loss: 0.8902 - mae: 1.3576 - val_loss: 2.0536 - val_mae: 2.6197\n",
      "Epoch 57/100\n",
      "11/11 [==============================] - 0s 7ms/step - loss: 0.7994 - mae: 1.2468 - val_loss: 2.0649 - val_mae: 2.6302\n",
      "Epoch 58/100\n",
      "11/11 [==============================] - 0s 7ms/step - loss: 0.8400 - mae: 1.3100 - val_loss: 2.0679 - val_mae: 2.6345\n",
      "Epoch 59/100\n",
      "11/11 [==============================] - 0s 8ms/step - loss: 0.8226 - mae: 1.2883 - val_loss: 2.0121 - val_mae: 2.5917\n",
      "Epoch 60/100\n",
      "11/11 [==============================] - 0s 8ms/step - loss: 0.7682 - mae: 1.2154 - val_loss: 2.1358 - val_mae: 2.7178\n",
      "Epoch 61/100\n",
      "11/11 [==============================] - 0s 7ms/step - loss: 0.7603 - mae: 1.2107 - val_loss: 2.0412 - val_mae: 2.6080\n",
      "Epoch 62/100\n",
      "11/11 [==============================] - 0s 8ms/step - loss: 0.8329 - mae: 1.2920 - val_loss: 2.2047 - val_mae: 2.7960\n",
      "Epoch 63/100\n"
     ]
    },
    {
     "name": "stdout",
     "output_type": "stream",
     "text": [
      "11/11 [==============================] - 0s 7ms/step - loss: 0.7702 - mae: 1.2259 - val_loss: 1.9735 - val_mae: 2.5404\n",
      "Epoch 64/100\n",
      "11/11 [==============================] - 0s 7ms/step - loss: 0.7739 - mae: 1.2254 - val_loss: 2.0751 - val_mae: 2.6352\n",
      "Epoch 65/100\n",
      "11/11 [==============================] - 0s 7ms/step - loss: 0.7690 - mae: 1.2124 - val_loss: 1.9664 - val_mae: 2.5450\n",
      "Epoch 66/100\n",
      "11/11 [==============================] - 0s 7ms/step - loss: 0.8088 - mae: 1.2671 - val_loss: 1.9849 - val_mae: 2.5548\n",
      "Epoch 67/100\n",
      "11/11 [==============================] - 0s 7ms/step - loss: 0.7493 - mae: 1.1803 - val_loss: 1.9921 - val_mae: 2.5508\n",
      "Epoch 68/100\n",
      "11/11 [==============================] - 0s 7ms/step - loss: 0.7925 - mae: 1.2620 - val_loss: 2.0489 - val_mae: 2.6268\n",
      "Epoch 69/100\n",
      "11/11 [==============================] - 0s 7ms/step - loss: 0.7681 - mae: 1.2297 - val_loss: 1.9974 - val_mae: 2.5853\n",
      "Epoch 70/100\n",
      "11/11 [==============================] - 0s 7ms/step - loss: 0.7711 - mae: 1.2211 - val_loss: 1.8126 - val_mae: 2.3691\n",
      "Epoch 71/100\n",
      "11/11 [==============================] - 0s 7ms/step - loss: 0.7278 - mae: 1.1738 - val_loss: 1.8624 - val_mae: 2.4142\n",
      "Epoch 72/100\n",
      "11/11 [==============================] - 0s 7ms/step - loss: 0.7491 - mae: 1.2001 - val_loss: 1.8203 - val_mae: 2.3949\n",
      "Epoch 73/100\n",
      "11/11 [==============================] - 0s 8ms/step - loss: 0.7472 - mae: 1.2081 - val_loss: 2.0974 - val_mae: 2.6577\n",
      "Epoch 74/100\n",
      "11/11 [==============================] - 0s 8ms/step - loss: 0.7682 - mae: 1.2331 - val_loss: 1.8813 - val_mae: 2.4259\n",
      "Epoch 75/100\n",
      "11/11 [==============================] - 0s 7ms/step - loss: 0.6925 - mae: 1.1249 - val_loss: 2.0354 - val_mae: 2.6298\n",
      "Epoch 76/100\n",
      "11/11 [==============================] - 0s 7ms/step - loss: 0.7619 - mae: 1.2290 - val_loss: 1.8810 - val_mae: 2.4384\n",
      "Epoch 77/100\n",
      "11/11 [==============================] - 0s 7ms/step - loss: 0.7919 - mae: 1.2626 - val_loss: 1.9863 - val_mae: 2.5531\n",
      "Epoch 78/100\n",
      "11/11 [==============================] - 0s 7ms/step - loss: 0.7418 - mae: 1.1881 - val_loss: 1.9103 - val_mae: 2.4998\n",
      "Epoch 79/100\n",
      "11/11 [==============================] - 0s 7ms/step - loss: 0.6369 - mae: 1.0579 - val_loss: 1.8256 - val_mae: 2.3974\n",
      "Epoch 80/100\n",
      "11/11 [==============================] - 0s 7ms/step - loss: 0.6846 - mae: 1.1178 - val_loss: 1.9523 - val_mae: 2.5266\n",
      "Epoch 81/100\n",
      "11/11 [==============================] - 0s 8ms/step - loss: 0.6905 - mae: 1.1326 - val_loss: 1.9594 - val_mae: 2.5206\n",
      "Epoch 82/100\n",
      "11/11 [==============================] - 0s 8ms/step - loss: 0.6797 - mae: 1.1231 - val_loss: 2.0139 - val_mae: 2.6106\n",
      "Epoch 83/100\n",
      "11/11 [==============================] - 0s 7ms/step - loss: 0.6708 - mae: 1.1150 - val_loss: 1.8753 - val_mae: 2.4454\n",
      "Epoch 84/100\n",
      "11/11 [==============================] - 0s 7ms/step - loss: 0.6206 - mae: 1.0407 - val_loss: 1.8686 - val_mae: 2.4336\n",
      "Epoch 85/100\n",
      "11/11 [==============================] - 0s 8ms/step - loss: 0.6138 - mae: 1.0392 - val_loss: 1.8839 - val_mae: 2.4507\n",
      "Epoch 86/100\n",
      "11/11 [==============================] - 0s 7ms/step - loss: 0.6147 - mae: 1.0389 - val_loss: 1.9215 - val_mae: 2.4928\n",
      "Epoch 87/100\n",
      "11/11 [==============================] - 0s 8ms/step - loss: 0.6378 - mae: 1.0634 - val_loss: 1.8859 - val_mae: 2.4505\n",
      "Epoch 88/100\n",
      "11/11 [==============================] - 0s 7ms/step - loss: 0.6128 - mae: 1.0230 - val_loss: 1.8277 - val_mae: 2.3984\n",
      "Epoch 89/100\n",
      "11/11 [==============================] - 0s 7ms/step - loss: 0.6090 - mae: 1.0271 - val_loss: 1.8251 - val_mae: 2.3911\n",
      "Epoch 90/100\n",
      "11/11 [==============================] - 0s 7ms/step - loss: 0.6004 - mae: 1.0130 - val_loss: 1.8845 - val_mae: 2.4691\n",
      "Epoch 91/100\n",
      "11/11 [==============================] - 0s 7ms/step - loss: 0.8926 - mae: 1.3673 - val_loss: 1.8521 - val_mae: 2.4199\n",
      "Epoch 92/100\n",
      "11/11 [==============================] - 0s 7ms/step - loss: 1.2638 - mae: 1.7853 - val_loss: 2.0642 - val_mae: 2.6519\n",
      "Epoch 93/100\n",
      "11/11 [==============================] - 0s 7ms/step - loss: 0.9599 - mae: 1.4628 - val_loss: 2.0288 - val_mae: 2.6029\n",
      "Epoch 94/100\n",
      "11/11 [==============================] - 0s 7ms/step - loss: 0.7332 - mae: 1.2048 - val_loss: 1.8421 - val_mae: 2.4056\n",
      "Epoch 95/100\n",
      "11/11 [==============================] - 0s 7ms/step - loss: 0.6568 - mae: 1.0922 - val_loss: 1.8701 - val_mae: 2.4490\n",
      "Epoch 96/100\n",
      "11/11 [==============================] - 0s 7ms/step - loss: 0.6484 - mae: 1.0868 - val_loss: 1.8284 - val_mae: 2.3960\n",
      "Epoch 97/100\n",
      "11/11 [==============================] - 0s 7ms/step - loss: 0.5815 - mae: 0.9852 - val_loss: 1.7929 - val_mae: 2.3592\n",
      "Epoch 98/100\n",
      "11/11 [==============================] - 0s 7ms/step - loss: 0.5577 - mae: 0.9604 - val_loss: 1.7875 - val_mae: 2.3503\n",
      "Epoch 99/100\n",
      "11/11 [==============================] - 0s 7ms/step - loss: 0.5884 - mae: 1.0026 - val_loss: 1.7965 - val_mae: 2.3594\n",
      "Epoch 100/100\n",
      "11/11 [==============================] - 0s 7ms/step - loss: 0.5917 - mae: 1.0065 - val_loss: 1.8723 - val_mae: 2.4374\n"
     ]
    }
   ],
   "source": [
    "# Step 6 - Kompile dan training model\n",
    "model.compile(optimizer='adam', loss='log_cosh', metrics='mae')\n",
    "history = model.fit(X_train_scaled, y_train, validation_split=0.2, epochs=100)"
   ]
  },
  {
   "cell_type": "code",
   "execution_count": 8,
   "id": "e963fa80",
   "metadata": {},
   "outputs": [
    {
     "data": {
      "image/png": "[encoded data removed]",
      "text/plain": [
       "<Figure size 432x288 with 1 Axes>"
      ]
     },
     "metadata": {
      "needs_background": "light"
     },
     "output_type": "display_data"
    }
   ],
   "source": [
    "# Step 7 - Menampilkan plot training history\n",
    "pyplot.plot(history.history['loss'], label='train')\n",
    "pyplot.plot(history.history['val_loss'], label='test')\n",
    "pyplot.legend()\n",
    "pyplot.show()"
   ]
  },
  {
   "cell_type": "code",
   "execution_count": 9,
   "id": "47a4b559",
   "metadata": {},
   "outputs": [
    {
     "name": "stdout",
     "output_type": "stream",
     "text": [
      "4/4 [==============================] - 0s 1ms/step - loss: 2.4010 - mae: 2.9940\n"
     ]
    },
    {
     "data": {
      "text/plain": [
       "[2.400956869125366, 2.993961811065674]"
      ]
     },
     "execution_count": 9,
     "metadata": {},
     "output_type": "execute_result"
    }
   ],
   "source": [
    "# Step 8 - Evaluasi pada dataset\n",
    "model.evaluate(X_test_scaled, y_test)"
   ]
  },
  {
   "cell_type": "code",
   "execution_count": 10,
   "id": "669ecf14",
   "metadata": {},
   "outputs": [
    {
     "name": "stdout",
     "output_type": "stream",
     "text": [
      "[[14.515253]\n",
      " [41.980545]\n",
      " [51.286064]\n",
      " [19.593063]\n",
      " [19.39201 ]\n",
      " [17.610168]\n",
      " [10.558794]\n",
      " [15.507932]\n",
      " [15.499056]\n",
      " [14.174471]]\n",
      "[15.2 42.3 50.  21.1 17.7 18.5 11.3 15.6 15.6 14.4]\n"
     ]
    }
   ],
   "source": [
    "# Step 9 - Melakukan prediksi\n",
    "to_predict = X_train_scaled[:10]  # sampel data (10 input pertama dari training data)\n",
    "predictions = model.predict(to_predict)  # memanggil predict method\n",
    "print(predictions)  # mencetak nilai prediksi\n",
    "print(y_train[:10])  # mencetak nilai sesungguhnya"
   ]
  },
  {
   "cell_type": "code",
   "execution_count": null,
   "id": "794f3d97",
   "metadata": {},
   "outputs": [],
   "source": []
  }
 ],
 "metadata": {
  "kernelspec": {
   "display_name": "Python 3",
   "language": "python",
   "name": "python3"
  },
  "language_info": {
   "codemirror_mode": {
    "name": "ipython",
    "version": 3
   },
   "file_extension": ".py",
   "mimetype": "text/x-python",
   "name": "python",
   "nbconvert_exporter": "python",
   "pygments_lexer": "ipython3",
   "version": "3.8.5"
  }
 },
 "nbformat": 4,
 "nbformat_minor": 5
}
