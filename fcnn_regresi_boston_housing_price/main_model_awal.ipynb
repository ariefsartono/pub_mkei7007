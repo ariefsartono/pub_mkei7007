{
 "cells": [
  {
   "cell_type": "code",
   "execution_count": null,
   "id": "293f795d",
   "metadata": {},
   "outputs": [],
   "source": [
    "# Model Fully Connected Neural Network untuk persoalan regresi menggunakan dataset Boston Housing Price\n",
    "# Urutan proses:\n",
    "# Step 1 - Memanggil library yang diperlukan\n",
    "# Step 2 - Memanggil dataset\n",
    "# Step 3 - Melihat isi sample dataset\n",
    "# Step 4 - Preprocessing dataset\n",
    "# Step 5 - Membangun model regresi\n",
    "# Step 6 - Kompile dan training model\n",
    "# Step 7 - Menampilkan plot training history\n",
    "# Step 8 - Evaluasi pada dataset"
   ]
  },
  {
   "cell_type": "code",
   "execution_count": 1,
   "id": "dd5f9ff4",
   "metadata": {},
   "outputs": [],
   "source": [
    "# Step 1 - Memanggil library yang diperlukan\n",
    "from keras.datasets import boston_housing\n",
    "from sklearn.preprocessing import StandardScaler\n",
    "from keras import models, layers\n",
    "from matplotlib import pyplot"
   ]
  },
  {
   "cell_type": "code",
   "execution_count": 2,
   "id": "34b56b8b",
   "metadata": {},
   "outputs": [],
   "source": [
    "# Step 2 - Memanggil dataset\n",
    "from keras.datasets import boston_housing\n",
    "(X_train, y_train), (X_test, y_test) = boston_housing.load_data()"
   ]
  },
  {
   "cell_type": "code",
   "execution_count": 3,
   "id": "40cf235f",
   "metadata": {},
   "outputs": [
    {
     "name": "stdout",
     "output_type": "stream",
     "text": [
      "[  1.23247   0.        8.14      0.        0.538     6.142    91.7\n",
      "   3.9769    4.      307.       21.      396.9      18.72   ] 15.2\n"
     ]
    }
   ],
   "source": [
    "# Step 3 - Melihat isi sample dataset\n",
    "print(X_train[0], y_train[0])"
   ]
  },
  {
   "cell_type": "code",
   "execution_count": 4,
   "id": "580e919f",
   "metadata": {},
   "outputs": [
    {
     "name": "stdout",
     "output_type": "stream",
     "text": [
      "[-0.27224633 -0.48361547 -0.43576161 -0.25683275 -0.1652266  -0.1764426\n",
      "  0.81306188  0.1166983  -0.62624905 -0.59517003  1.14850044  0.44807713\n",
      "  0.8252202 ]\n"
     ]
    }
   ],
   "source": [
    "# Step 4 - Preprocessing dataset\n",
    "#from sklearn.preprocessing import StandardScaler\n",
    "scaler = StandardScaler()\n",
    "# fit scaler pada training set\n",
    "scaler.fit(X_train)\n",
    "# transformasi ke training dan testing data\n",
    "X_train_scaled = scaler.transform(X_train)\n",
    "X_test_scaled = scaler.transform(X_test)\n",
    "# menampilkan sampel output\n",
    "print(X_train_scaled[0])"
   ]
  },
  {
   "cell_type": "code",
   "execution_count": 5,
   "id": "35bdaa9c",
   "metadata": {},
   "outputs": [],
   "source": [
    "# Step 5 - Pembuatan model regresi\n",
    "#from keras import models, layers\n",
    "model = models.Sequential()\n",
    "model.add(layers.Dense(8, activation='relu', input_shape=[X_train.shape[1]]))\n",
    "model.add(layers.Dense(16, activation='relu'))\n",
    "# output layer\n",
    "model.add(layers.Dense(1))"
   ]
  },
  {
   "cell_type": "code",
   "execution_count": 6,
   "id": "52eb7bf5",
   "metadata": {},
   "outputs": [
    {
     "name": "stdout",
     "output_type": "stream",
     "text": [
      "Epoch 1/100\n",
      "11/11 [==============================] - 2s 26ms/step - loss: 575.2055 - mae: 22.1698 - val_loss: 641.5590 - val_mae: 23.5485\n",
      "Epoch 2/100\n",
      "11/11 [==============================] - 0s 7ms/step - loss: 563.5073 - mae: 21.8885 - val_loss: 631.7032 - val_mae: 23.3127\n",
      "Epoch 3/100\n",
      "11/11 [==============================] - 0s 7ms/step - loss: 553.5801 - mae: 21.6375 - val_loss: 622.5781 - val_mae: 23.0960\n",
      "Epoch 4/100\n",
      "11/11 [==============================] - 0s 7ms/step - loss: 543.7043 - mae: 21.3916 - val_loss: 611.9388 - val_mae: 22.8405\n",
      "Epoch 5/100\n",
      "11/11 [==============================] - 0s 7ms/step - loss: 532.6697 - mae: 21.1114 - val_loss: 601.0576 - val_mae: 22.5782\n",
      "Epoch 6/100\n",
      "11/11 [==============================] - 0s 7ms/step - loss: 521.4499 - mae: 20.8179 - val_loss: 590.7007 - val_mae: 22.3134\n",
      "Epoch 7/100\n",
      "11/11 [==============================] - 0s 7ms/step - loss: 510.2081 - mae: 20.5161 - val_loss: 578.9272 - val_mae: 22.0131\n",
      "Epoch 8/100\n",
      "11/11 [==============================] - 0s 7ms/step - loss: 497.9323 - mae: 20.1873 - val_loss: 566.6411 - val_mae: 21.7041\n",
      "Epoch 9/100\n",
      "11/11 [==============================] - 0s 7ms/step - loss: 484.9826 - mae: 19.8530 - val_loss: 553.5169 - val_mae: 21.3587\n",
      "Epoch 10/100\n",
      "11/11 [==============================] - 0s 7ms/step - loss: 471.4348 - mae: 19.4875 - val_loss: 539.4133 - val_mae: 21.0109\n",
      "Epoch 11/100\n",
      "11/11 [==============================] - 0s 7ms/step - loss: 457.0268 - mae: 19.1119 - val_loss: 524.9980 - val_mae: 20.6444\n",
      "Epoch 12/100\n",
      "11/11 [==============================] - 0s 8ms/step - loss: 442.3423 - mae: 18.6921 - val_loss: 509.9127 - val_mae: 20.2582\n",
      "Epoch 13/100\n",
      "11/11 [==============================] - 0s 7ms/step - loss: 426.7038 - mae: 18.2786 - val_loss: 492.8415 - val_mae: 19.8208\n",
      "Epoch 14/100\n",
      "11/11 [==============================] - 0s 7ms/step - loss: 409.8098 - mae: 17.8202 - val_loss: 475.5547 - val_mae: 19.3614\n",
      "Epoch 15/100\n",
      "11/11 [==============================] - 0s 7ms/step - loss: 392.3741 - mae: 17.3660 - val_loss: 457.0351 - val_mae: 18.8607\n",
      "Epoch 16/100\n",
      "11/11 [==============================] - 0s 7ms/step - loss: 374.2784 - mae: 16.8715 - val_loss: 440.0888 - val_mae: 18.4186\n",
      "Epoch 17/100\n",
      "11/11 [==============================] - 0s 7ms/step - loss: 356.9835 - mae: 16.3916 - val_loss: 420.2864 - val_mae: 17.9109\n",
      "Epoch 18/100\n",
      "11/11 [==============================] - 0s 8ms/step - loss: 337.8693 - mae: 15.8384 - val_loss: 401.0378 - val_mae: 17.3995\n",
      "Epoch 19/100\n",
      "11/11 [==============================] - 0s 7ms/step - loss: 319.3799 - mae: 15.2988 - val_loss: 381.1702 - val_mae: 16.8722\n",
      "Epoch 20/100\n",
      "11/11 [==============================] - 0s 7ms/step - loss: 300.2373 - mae: 14.7506 - val_loss: 362.2782 - val_mae: 16.3371\n",
      "Epoch 21/100\n",
      "11/11 [==============================] - 0s 7ms/step - loss: 281.4217 - mae: 14.1866 - val_loss: 340.8628 - val_mae: 15.7215\n",
      "Epoch 22/100\n",
      "11/11 [==============================] - 0s 7ms/step - loss: 261.8478 - mae: 13.5718 - val_loss: 322.6505 - val_mae: 15.1616\n",
      "Epoch 23/100\n",
      "11/11 [==============================] - 0s 7ms/step - loss: 244.4053 - mae: 12.9887 - val_loss: 301.9849 - val_mae: 14.4886\n",
      "Epoch 24/100\n",
      "11/11 [==============================] - 0s 7ms/step - loss: 225.0921 - mae: 12.3398 - val_loss: 281.7847 - val_mae: 13.8096\n",
      "Epoch 25/100\n",
      "11/11 [==============================] - 0s 7ms/step - loss: 206.6369 - mae: 11.7100 - val_loss: 259.7582 - val_mae: 13.0428\n",
      "Epoch 26/100\n",
      "11/11 [==============================] - 0s 8ms/step - loss: 188.3627 - mae: 11.0281 - val_loss: 242.2722 - val_mae: 12.4539\n",
      "Epoch 27/100\n",
      "11/11 [==============================] - 0s 7ms/step - loss: 173.3256 - mae: 10.4773 - val_loss: 225.6020 - val_mae: 11.8399\n",
      "Epoch 28/100\n",
      "11/11 [==============================] - 0s 7ms/step - loss: 159.2667 - mae: 9.9659 - val_loss: 209.0122 - val_mae: 11.1989\n",
      "Epoch 29/100\n",
      "11/11 [==============================] - 0s 7ms/step - loss: 145.8557 - mae: 9.4422 - val_loss: 192.8789 - val_mae: 10.5598\n",
      "Epoch 30/100\n",
      "11/11 [==============================] - 0s 8ms/step - loss: 134.1208 - mae: 8.9846 - val_loss: 177.5449 - val_mae: 10.0202\n",
      "Epoch 31/100\n",
      "11/11 [==============================] - 0s 7ms/step - loss: 123.2178 - mae: 8.5833 - val_loss: 167.1641 - val_mae: 9.6345\n",
      "Epoch 32/100\n",
      "11/11 [==============================] - 0s 7ms/step - loss: 115.0328 - mae: 8.2416 - val_loss: 156.3589 - val_mae: 9.2722\n",
      "Epoch 33/100\n",
      "11/11 [==============================] - 0s 7ms/step - loss: 107.2926 - mae: 7.9287 - val_loss: 147.9794 - val_mae: 8.9943\n",
      "Epoch 34/100\n",
      "11/11 [==============================] - 0s 7ms/step - loss: 102.0046 - mae: 7.7012 - val_loss: 139.9564 - val_mae: 8.7292\n",
      "Epoch 35/100\n",
      "11/11 [==============================] - 0s 8ms/step - loss: 96.1831 - mae: 7.4418 - val_loss: 132.9314 - val_mae: 8.4872\n",
      "Epoch 36/100\n",
      "11/11 [==============================] - 0s 7ms/step - loss: 91.2888 - mae: 7.2212 - val_loss: 124.7294 - val_mae: 8.2055\n",
      "Epoch 37/100\n",
      "11/11 [==============================] - 0s 7ms/step - loss: 85.7354 - mae: 6.9291 - val_loss: 118.6004 - val_mae: 7.9781\n",
      "Epoch 38/100\n",
      "11/11 [==============================] - 0s 7ms/step - loss: 81.3085 - mae: 6.7182 - val_loss: 111.5443 - val_mae: 7.6967\n",
      "Epoch 39/100\n",
      "11/11 [==============================] - 0s 7ms/step - loss: 77.0146 - mae: 6.4797 - val_loss: 106.8309 - val_mae: 7.5069\n",
      "Epoch 40/100\n",
      "11/11 [==============================] - 0s 8ms/step - loss: 73.2500 - mae: 6.2944 - val_loss: 100.7194 - val_mae: 7.2424\n",
      "Epoch 41/100\n",
      "11/11 [==============================] - 0s 7ms/step - loss: 69.4015 - mae: 6.0855 - val_loss: 95.7934 - val_mae: 7.0335\n",
      "Epoch 42/100\n",
      "11/11 [==============================] - 0s 7ms/step - loss: 65.8473 - mae: 5.8872 - val_loss: 89.8725 - val_mae: 6.7717\n",
      "Epoch 43/100\n",
      "11/11 [==============================] - 0s 8ms/step - loss: 62.3282 - mae: 5.6962 - val_loss: 86.4978 - val_mae: 6.6014\n",
      "Epoch 44/100\n",
      "11/11 [==============================] - 0s 7ms/step - loss: 59.8083 - mae: 5.5562 - val_loss: 83.2312 - val_mae: 6.4449\n",
      "Epoch 45/100\n",
      "11/11 [==============================] - 0s 7ms/step - loss: 57.2320 - mae: 5.4219 - val_loss: 79.7654 - val_mae: 6.2852\n",
      "Epoch 46/100\n",
      "11/11 [==============================] - 0s 8ms/step - loss: 54.4992 - mae: 5.2705 - val_loss: 75.2312 - val_mae: 6.0873\n",
      "Epoch 47/100\n",
      "11/11 [==============================] - 0s 8ms/step - loss: 51.8172 - mae: 5.1135 - val_loss: 71.8388 - val_mae: 5.9337\n",
      "Epoch 48/100\n",
      "11/11 [==============================] - 0s 7ms/step - loss: 49.4446 - mae: 4.9756 - val_loss: 68.3656 - val_mae: 5.7551\n",
      "Epoch 49/100\n",
      "11/11 [==============================] - 0s 7ms/step - loss: 47.1970 - mae: 4.8268 - val_loss: 64.5203 - val_mae: 5.5539\n",
      "Epoch 50/100\n",
      "11/11 [==============================] - 0s 7ms/step - loss: 45.0517 - mae: 4.6963 - val_loss: 61.5050 - val_mae: 5.4196\n",
      "Epoch 51/100\n",
      "11/11 [==============================] - 0s 7ms/step - loss: 43.3170 - mae: 4.5908 - val_loss: 58.6191 - val_mae: 5.2835\n",
      "Epoch 52/100\n",
      "11/11 [==============================] - 0s 9ms/step - loss: 41.6819 - mae: 4.4915 - val_loss: 55.9436 - val_mae: 5.1368\n",
      "Epoch 53/100\n",
      "11/11 [==============================] - 0s 8ms/step - loss: 39.8217 - mae: 4.3690 - val_loss: 53.0744 - val_mae: 5.0137\n",
      "Epoch 54/100\n",
      "11/11 [==============================] - 0s 8ms/step - loss: 38.2782 - mae: 4.2732 - val_loss: 50.4230 - val_mae: 4.8912\n",
      "Epoch 55/100\n",
      "11/11 [==============================] - 0s 7ms/step - loss: 36.8771 - mae: 4.1994 - val_loss: 48.0660 - val_mae: 4.8067\n",
      "Epoch 56/100\n",
      "11/11 [==============================] - 0s 8ms/step - loss: 35.6008 - mae: 4.1239 - val_loss: 46.1415 - val_mae: 4.6850\n",
      "Epoch 57/100\n",
      "11/11 [==============================] - 0s 7ms/step - loss: 34.5247 - mae: 4.0502 - val_loss: 44.0172 - val_mae: 4.5772\n",
      "Epoch 58/100\n",
      "11/11 [==============================] - 0s 7ms/step - loss: 33.3326 - mae: 3.9677 - val_loss: 42.1967 - val_mae: 4.4783\n",
      "Epoch 59/100\n",
      "11/11 [==============================] - 0s 8ms/step - loss: 32.2038 - mae: 3.8973 - val_loss: 40.5639 - val_mae: 4.3690\n",
      "Epoch 60/100\n",
      "11/11 [==============================] - 0s 7ms/step - loss: 31.2912 - mae: 3.8532 - val_loss: 38.6907 - val_mae: 4.2465\n",
      "Epoch 61/100\n"
     ]
    },
    {
     "name": "stdout",
     "output_type": "stream",
     "text": [
      "11/11 [==============================] - 0s 8ms/step - loss: 30.4551 - mae: 3.7969 - val_loss: 37.2942 - val_mae: 4.1956\n",
      "Epoch 62/100\n",
      "11/11 [==============================] - 0s 7ms/step - loss: 29.6155 - mae: 3.7422 - val_loss: 35.8659 - val_mae: 4.1579\n",
      "Epoch 63/100\n",
      "11/11 [==============================] - 0s 7ms/step - loss: 28.8709 - mae: 3.6960 - val_loss: 34.7131 - val_mae: 4.1043\n",
      "Epoch 64/100\n",
      "11/11 [==============================] - 0s 7ms/step - loss: 28.1464 - mae: 3.6496 - val_loss: 33.6423 - val_mae: 4.0559\n",
      "Epoch 65/100\n",
      "11/11 [==============================] - 0s 7ms/step - loss: 27.4687 - mae: 3.6172 - val_loss: 32.6411 - val_mae: 3.9600\n",
      "Epoch 66/100\n",
      "11/11 [==============================] - 0s 7ms/step - loss: 26.8887 - mae: 3.5705 - val_loss: 31.5609 - val_mae: 3.9057\n",
      "Epoch 67/100\n",
      "11/11 [==============================] - 0s 7ms/step - loss: 26.3397 - mae: 3.5432 - val_loss: 30.6697 - val_mae: 3.8769\n",
      "Epoch 68/100\n",
      "11/11 [==============================] - 0s 7ms/step - loss: 25.8549 - mae: 3.5105 - val_loss: 29.8759 - val_mae: 3.8693\n",
      "Epoch 69/100\n",
      "11/11 [==============================] - 0s 7ms/step - loss: 25.2473 - mae: 3.4666 - val_loss: 29.0768 - val_mae: 3.7993\n",
      "Epoch 70/100\n",
      "11/11 [==============================] - 0s 7ms/step - loss: 24.8707 - mae: 3.4536 - val_loss: 28.4788 - val_mae: 3.7959\n",
      "Epoch 71/100\n",
      "11/11 [==============================] - 0s 7ms/step - loss: 24.3073 - mae: 3.4067 - val_loss: 28.0284 - val_mae: 3.8349\n",
      "Epoch 72/100\n",
      "11/11 [==============================] - 0s 7ms/step - loss: 23.9118 - mae: 3.3866 - val_loss: 27.1032 - val_mae: 3.7306\n",
      "Epoch 73/100\n",
      "11/11 [==============================] - 0s 7ms/step - loss: 23.5010 - mae: 3.3605 - val_loss: 26.4017 - val_mae: 3.6758\n",
      "Epoch 74/100\n",
      "11/11 [==============================] - 0s 7ms/step - loss: 23.0535 - mae: 3.3302 - val_loss: 26.1294 - val_mae: 3.6937\n",
      "Epoch 75/100\n",
      "11/11 [==============================] - 0s 8ms/step - loss: 22.6378 - mae: 3.3176 - val_loss: 25.4020 - val_mae: 3.6028\n",
      "Epoch 76/100\n",
      "11/11 [==============================] - 0s 9ms/step - loss: 22.3392 - mae: 3.2825 - val_loss: 24.9325 - val_mae: 3.5712\n",
      "Epoch 77/100\n",
      "11/11 [==============================] - 0s 10ms/step - loss: 22.0083 - mae: 3.2572 - val_loss: 24.5678 - val_mae: 3.5157\n",
      "Epoch 78/100\n",
      "11/11 [==============================] - 0s 8ms/step - loss: 21.7560 - mae: 3.2284 - val_loss: 24.1704 - val_mae: 3.5040\n",
      "Epoch 79/100\n",
      "11/11 [==============================] - 0s 8ms/step - loss: 21.3774 - mae: 3.2167 - val_loss: 24.0142 - val_mae: 3.4851\n",
      "Epoch 80/100\n",
      "11/11 [==============================] - 0s 8ms/step - loss: 21.1858 - mae: 3.1934 - val_loss: 23.7473 - val_mae: 3.4827\n",
      "Epoch 81/100\n",
      "11/11 [==============================] - 0s 8ms/step - loss: 20.9263 - mae: 3.1763 - val_loss: 23.1168 - val_mae: 3.4628\n",
      "Epoch 82/100\n",
      "11/11 [==============================] - 0s 8ms/step - loss: 20.5912 - mae: 3.1589 - val_loss: 22.7557 - val_mae: 3.4323\n",
      "Epoch 83/100\n",
      "11/11 [==============================] - 0s 8ms/step - loss: 20.3306 - mae: 3.1290 - val_loss: 22.4672 - val_mae: 3.4383\n",
      "Epoch 84/100\n",
      "11/11 [==============================] - 0s 8ms/step - loss: 20.0100 - mae: 3.1223 - val_loss: 21.7236 - val_mae: 3.3634\n",
      "Epoch 85/100\n",
      "11/11 [==============================] - 0s 14ms/step - loss: 19.7794 - mae: 3.0957 - val_loss: 21.3011 - val_mae: 3.3371\n",
      "Epoch 86/100\n",
      "11/11 [==============================] - 0s 8ms/step - loss: 19.4887 - mae: 3.0754 - val_loss: 21.2139 - val_mae: 3.3433\n",
      "Epoch 87/100\n",
      "11/11 [==============================] - 0s 8ms/step - loss: 19.2535 - mae: 3.0621 - val_loss: 20.5572 - val_mae: 3.2776\n",
      "Epoch 88/100\n",
      "11/11 [==============================] - 0s 8ms/step - loss: 18.9897 - mae: 3.0402 - val_loss: 20.1976 - val_mae: 3.2507\n",
      "Epoch 89/100\n",
      "11/11 [==============================] - 0s 8ms/step - loss: 18.7829 - mae: 3.0203 - val_loss: 20.1040 - val_mae: 3.2582\n",
      "Epoch 90/100\n",
      "11/11 [==============================] - 0s 8ms/step - loss: 18.5595 - mae: 3.0093 - val_loss: 19.8985 - val_mae: 3.2591\n",
      "Epoch 91/100\n",
      "11/11 [==============================] - 0s 8ms/step - loss: 18.2665 - mae: 3.0059 - val_loss: 19.3348 - val_mae: 3.1854\n",
      "Epoch 92/100\n",
      "11/11 [==============================] - 0s 8ms/step - loss: 18.0528 - mae: 2.9589 - val_loss: 18.9317 - val_mae: 3.1559\n",
      "Epoch 93/100\n",
      "11/11 [==============================] - 0s 8ms/step - loss: 17.9010 - mae: 2.9650 - val_loss: 18.6915 - val_mae: 3.1422\n",
      "Epoch 94/100\n",
      "11/11 [==============================] - 0s 8ms/step - loss: 17.6734 - mae: 2.9368 - val_loss: 18.3173 - val_mae: 3.0976\n",
      "Epoch 95/100\n",
      "11/11 [==============================] - 0s 11ms/step - loss: 17.4858 - mae: 2.9157 - val_loss: 18.1134 - val_mae: 3.0885\n",
      "Epoch 96/100\n",
      "11/11 [==============================] - 0s 9ms/step - loss: 17.2787 - mae: 2.8980 - val_loss: 17.9391 - val_mae: 3.0684\n",
      "Epoch 97/100\n",
      "11/11 [==============================] - 0s 8ms/step - loss: 17.0728 - mae: 2.8756 - val_loss: 17.7670 - val_mae: 3.0648\n",
      "Epoch 98/100\n",
      "11/11 [==============================] - 0s 8ms/step - loss: 16.9005 - mae: 2.8626 - val_loss: 17.3124 - val_mae: 3.0205\n",
      "Epoch 99/100\n",
      "11/11 [==============================] - 0s 8ms/step - loss: 16.7878 - mae: 2.8544 - val_loss: 17.0254 - val_mae: 3.0017\n",
      "Epoch 100/100\n",
      "11/11 [==============================] - 0s 8ms/step - loss: 16.6049 - mae: 2.8301 - val_loss: 16.6933 - val_mae: 2.9689\n"
     ]
    }
   ],
   "source": [
    "# Step 6 - Kompile dan training model\n",
    "model.compile(optimizer='rmsprop', loss='mse', metrics='mae')\n",
    "history = model.fit(X_train_scaled, y_train, validation_split=0.2, epochs=100)"
   ]
  },
  {
   "cell_type": "code",
   "execution_count": 7,
   "id": "e963fa80",
   "metadata": {},
   "outputs": [
    {
     "data": {
      "image/png": "[encoded data removed]",
      "text/plain": [
       "<Figure size 432x288 with 1 Axes>"
      ]
     },
     "metadata": {
      "needs_background": "light"
     },
     "output_type": "display_data"
    }
   ],
   "source": [
    "# Step 7 - Menampilkan plot training history\n",
    "pyplot.plot(history.history['loss'], label='train')\n",
    "pyplot.plot(history.history['val_loss'], label='test')\n",
    "pyplot.legend()\n",
    "pyplot.show()"
   ]
  },
  {
   "cell_type": "code",
   "execution_count": 8,
   "id": "47a4b559",
   "metadata": {},
   "outputs": [
    {
     "name": "stdout",
     "output_type": "stream",
     "text": [
      "4/4 [==============================] - 0s 1ms/step - loss: 24.8255 - mae: 3.6530\n"
     ]
    },
    {
     "data": {
      "text/plain": [
       "[24.825483322143555, 3.6530301570892334]"
      ]
     },
     "execution_count": 8,
     "metadata": {},
     "output_type": "execute_result"
    }
   ],
   "source": [
    "# Step 8 - Evaluasi pada dataset\n",
    "model.evaluate(X_test_scaled, y_test)"
   ]
  },
  {
   "cell_type": "code",
   "execution_count": 11,
   "id": "669ecf14",
   "metadata": {},
   "outputs": [
    {
     "name": "stdout",
     "output_type": "stream",
     "text": [
      "[[15.355974]\n",
      " [40.6468  ]\n",
      " [26.896511]\n",
      " [21.950726]\n",
      " [19.790218]\n",
      " [18.528961]\n",
      " [15.24832 ]\n",
      " [13.126206]\n",
      " [12.195814]\n",
      " [17.30174 ]]\n",
      "[15.2 42.3 50.  21.1 17.7 18.5 11.3 15.6 15.6 14.4]\n"
     ]
    }
   ],
   "source": [
    "# Step 9 - Melakukan prediksi\n",
    "to_predict = X_train_scaled[:10]  # sampel data (10 input pertama dari training data)\n",
    "predictions = model.predict(to_predict)  # memanggil predict method\n",
    "print(predictions)  # mencetak nilai prediksi\n",
    "print(y_train[:10])  # mencetak nilai sesungguhnya"
   ]
  },
  {
   "cell_type": "code",
   "execution_count": null,
   "id": "794f3d97",
   "metadata": {},
   "outputs": [],
   "source": []
  }
 ],
 "metadata": {
  "kernelspec": {
   "display_name": "Python 3",
   "language": "python",
   "name": "python3"
  },
  "language_info": {
   "codemirror_mode": {
    "name": "ipython",
    "version": 3
   },
   "file_extension": ".py",
   "mimetype": "text/x-python",
   "name": "python",
   "nbconvert_exporter": "python",
   "pygments_lexer": "ipython3",
   "version": "3.8.5"
  }
 },
 "nbformat": 4,
 "nbformat_minor": 5
}
